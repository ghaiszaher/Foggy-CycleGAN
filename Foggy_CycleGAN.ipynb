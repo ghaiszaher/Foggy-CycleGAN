{
 "nbformat": 4,
 "nbformat_minor": 0,
 "metadata": {
  "accelerator": "GPU",
  "colab": {
   "name": "Foggy_CycleGAN.ipynb",
   "provenance": [],
   "collapsed_sections": [],
   "toc_visible": true,
   "include_colab_link": true
  },
  "kernelspec": {
   "display_name": "Python 3",
   "language": "python",
   "name": "python3"
  },
  "language_info": {
   "codemirror_mode": {
    "name": "ipython",
    "version": 3
   },
   "file_extension": ".py",
   "mimetype": "text/x-python",
   "name": "python",
   "nbconvert_exporter": "python",
   "pygments_lexer": "ipython3",
   "version": "3.7.6"
  }
 },
 "cells": [
  {
   "cell_type": "markdown",
   "metadata": {
    "id": "view-in-github",
    "colab_type": "text"
   },
   "source": [
    "<a href=\"https://colab.research.google.com/github/ghaiszaher/Foggy-CycleGAN/blob/master/Foggy_CycleGAN.ipynb\" target=\"_parent\"><img src=\"https://colab.research.google.com/assets/colab-badge.svg\" alt=\"Open In Colab\"/></a>"
   ]
  },
  {
   "cell_type": "markdown",
   "metadata": {
    "colab_type": "text",
    "id": "_xnMOsbqHz61"
   },
   "source": [
    "# Foggy-CycleGAN"
   ]
  },
  {
   "cell_type": "markdown",
   "metadata": {
    "colab_type": "text",
    "id": "e1_Y75QXJS6h"
   },
   "source": [
    "## Set up the input pipeline"
   ]
  },
  {
   "cell_type": "code",
   "metadata": {
    "colab_type": "code",
    "id": "lhSsUx9Nyb3t",
    "colab": {},
    "ExecuteTime": {
     "end_time": "2024-11-17T18:55:31.858906Z",
     "start_time": "2024-11-17T18:55:30.030433Z"
    }
   },
   "source": [
    "import sys\n",
    "colab = 'google.colab' in sys.modules\n",
    "if colab:\n",
    "    !pip install keras-cv\n",
    "import tensorflow as tf"
   ],
   "outputs": [],
   "execution_count": 1
  },
  {
   "cell_type": "code",
   "metadata": {
    "colab_type": "code",
    "id": "gct0xca4KwM6",
    "pycharm": {
     "name": "#%%\n"
    },
    "colab": {},
    "ExecuteTime": {
     "end_time": "2024-11-17T18:55:31.924239Z",
     "start_time": "2024-11-17T18:55:31.921394Z"
    }
   },
   "source": [
    "# noinspection PyUnresolvedReferences\n",
    "print(tf.__version__)"
   ],
   "outputs": [
    {
     "name": "stdout",
     "output_type": "stream",
     "text": [
      "2.17.0\n"
     ]
    }
   ],
   "execution_count": 2
  },
  {
   "cell_type": "code",
   "metadata": {
    "colab_type": "code",
    "id": "YfIk2es3hJEd",
    "colab": {},
    "ExecuteTime": {
     "end_time": "2024-11-17T18:55:32.094626Z",
     "start_time": "2024-11-17T18:55:31.990512Z"
    }
   },
   "source": [
    "import tensorflow_datasets as tfds\n",
    "\n",
    "import os\n",
    "from IPython.display import clear_output\n",
    "\n",
    "tfds.disable_progress_bar()"
   ],
   "outputs": [],
   "execution_count": 3
  },
  {
   "cell_type": "code",
   "metadata": {
    "colab_type": "code",
    "id": "0Y14JF3xcXWB",
    "colab": {},
    "ExecuteTime": {
     "end_time": "2024-11-17T18:55:32.101096Z",
     "start_time": "2024-11-17T18:55:32.098851Z"
    }
   },
   "source": [
    "if colab:\n",
    "    os.environ['PROJECT_DIR'] = project_dir = '/content/Foggy-CycleGAN'\n",
    "    replace = True\n",
    "    if os.path.isdir(project_dir):\n",
    "        choice = input(\"Project already exists in folder \"+\n",
    "              \"{}\\nDelete the files and pull again? Enter Y/(N):\\n\"\n",
    "              .format(project_dir))\n",
    "        if choice.lower()=='y':\n",
    "            !rm -r $PROJECT_DIR\n",
    "            print(\"Deleted folder {}\".format(project_dir))\n",
    "        else:\n",
    "            replace = False\n",
    "            print(\"Nothing was changed.\")\n",
    "    if replace:\n",
    "        !cd /content && git clone https://github.com/ghaiszaher/Foggy-CycleGAN.git\n",
    "        print(\"Project cloned to \" + project_dir)\n",
    "    os.chdir(project_dir)\n",
    "    print(\"Done.\")"
   ],
   "outputs": [],
   "execution_count": 4
  },
  {
   "cell_type": "markdown",
   "metadata": {
    "colab_type": "text",
    "id": "iYn4MdZnKCey"
   },
   "source": [
    "## Prepare Datasets"
   ]
  },
  {
   "cell_type": "code",
   "metadata": {
    "colab_type": "code",
    "id": "2CbTEt448b4R",
    "colab": {},
    "ExecuteTime": {
     "end_time": "2024-11-17T18:55:32.106231Z",
     "start_time": "2024-11-17T18:55:32.104794Z"
    }
   },
   "source": [
    "BATCH_SIZE = 5 if colab else 1\n",
    "IMG_WIDTH = 256\n",
    "IMG_HEIGHT = 256"
   ],
   "outputs": [],
   "execution_count": 5
  },
  {
   "cell_type": "code",
   "metadata": {
    "id": "Qu5_c2ecxZBF",
    "colab_type": "code",
    "colab": {},
    "ExecuteTime": {
     "end_time": "2024-11-17T18:55:32.113689Z",
     "start_time": "2024-11-17T18:55:32.112312Z"
    }
   },
   "source": [
    "project_label = \"\" #@param {type:\"string\"}"
   ],
   "outputs": [],
   "execution_count": 6
  },
  {
   "cell_type": "code",
   "source": [
    "mount_path = None #to suppress warnings\n",
    "drive_project_path = None\n",
    "if colab:\n",
    "    # noinspection PyUnresolvedReferences\n",
    "    from google.colab import drive\n",
    "    mount_path = '/content/drive'\n",
    "    drive.mount(mount_path, force_remount=True)\n",
    "    drive_project_path = os.path.join(mount_path,\"My Drive/Colab Notebooks/Foggy-CycleGAN/\",project_label)\n",
    "    drive_datasets_path = os.path.join(mount_path,\"My Drive/Colab Notebooks/Datasets/\")\n",
    "    os.environ['DRIVE_PROJECT'] = drive_project_path\n",
    "    os.environ['DRIVE_DATASETS'] = drive_datasets_path"
   ],
   "metadata": {
    "collapsed": false,
    "pycharm": {
     "name": "#%%\n"
    },
    "ExecuteTime": {
     "end_time": "2024-11-17T18:55:32.117329Z",
     "start_time": "2024-11-17T18:55:32.115524Z"
    }
   },
   "outputs": [],
   "execution_count": 7
  },
  {
   "cell_type": "code",
   "metadata": {
    "id": "95a1NFSv6Qfa",
    "colab_type": "code",
    "colab": {},
    "ExecuteTime": {
     "end_time": "2024-11-17T18:55:32.122146Z",
     "start_time": "2024-11-17T18:55:32.120740Z"
    }
   },
   "source": [
    "#Unzip dataset from Google Drive to /content/dataset/ folder\n",
    "if colab:\n",
    "    !sh $PROJECT_DIR/copy_dataset.sh"
   ],
   "outputs": [],
   "execution_count": 8
  },
  {
   "cell_type": "code",
   "metadata": {
    "pycharm": {
     "name": "#%%\n"
    },
    "id": "-7Za2DrexGpg",
    "colab_type": "code",
    "colab": {},
    "ExecuteTime": {
     "end_time": "2024-11-17T18:55:32.126800Z",
     "start_time": "2024-11-17T18:55:32.125672Z"
    }
   },
   "source": [
    "test_split = 0.2 #@param {type:\"slider\", min:0.05, max:0.95, step:0.05}"
   ],
   "outputs": [],
   "execution_count": 9
  },
  {
   "cell_type": "code",
   "source": [
    "from lib.dataset import DatasetInitializer\n",
    "\n",
    "datasetInit = DatasetInitializer(256, 256)\n",
    "datasetInit.dataset_path = '/content/dataset/' if colab else  './dataset/'\n",
    "(train_clear, train_fog), (test_clear, test_fog), (sample_clear, sample_fog) = datasetInit.prepare_dataset(\n",
    "    BATCH_SIZE,\n",
    "    test_split=test_split,\n",
    "    random_seed=7)"
   ],
   "metadata": {
    "collapsed": false,
    "pycharm": {
     "name": "#%%\n"
    },
    "ExecuteTime": {
     "end_time": "2024-11-17T18:55:32.772807Z",
     "start_time": "2024-11-17T18:55:32.130735Z"
    }
   },
   "outputs": [
    {
     "name": "stdout",
     "output_type": "stream",
     "text": [
      "Found 41 clear images and 1703 fog images\n",
      "Clear images split to 33 train - 8 test\n",
      "Fog images split to 1363 train - 340 test\n",
      "Found 1 sample clear image(s) and 9 sample fog image(s)\n"
     ]
    }
   ],
   "execution_count": 10
  },
  {
   "cell_type": "markdown",
   "metadata": {
    "colab_type": "text",
    "id": "hvX8sKsfMaio",
    "pycharm": {
     "name": "#%% md\n"
    }
   },
   "source": [
    "## Build Generator"
   ]
  },
  {
   "cell_type": "code",
   "metadata": {
    "colab_type": "code",
    "id": "8ju9Wyw87MRW",
    "colab": {},
    "ExecuteTime": {
     "end_time": "2024-11-17T18:55:32.779410Z",
     "start_time": "2024-11-17T18:55:32.777967Z"
    }
   },
   "source": [
    "from lib.models import ModelsBuilder\n",
    "OUTPUT_CHANNELS = 3\n",
    "models_builder = ModelsBuilder()"
   ],
   "outputs": [],
   "execution_count": 11
  },
  {
   "cell_type": "code",
   "metadata": {
    "colab_type": "code",
    "id": "1PlWxBqiHu1M",
    "colab": {},
    "ExecuteTime": {
     "end_time": "2024-11-17T18:55:33.353775Z",
     "start_time": "2024-11-17T18:55:32.784378Z"
    }
   },
   "source": [
    "use_transmission_map = False #@param{type: \"boolean\"}\n",
    "use_gauss_filter = False #@param{type: \"boolean\"}\n",
    "if use_gauss_filter and not use_transmission_map:\n",
    "    raise Exception(\"Gauss filter requires transmission map\")\n",
    "use_resize_conv = False #@param{type: \"boolean\"}\n",
    "\n",
    "generator_clear2fog = models_builder.build_generator(use_transmission_map=use_transmission_map,\n",
    "                                                     use_gauss_filter=use_gauss_filter,\n",
    "                                                     use_resize_conv=use_resize_conv)\n",
    "generator_fog2clear = models_builder.build_generator(use_transmission_map=False)"
   ],
   "outputs": [],
   "execution_count": 12
  },
  {
   "cell_type": "code",
   "metadata": {
    "colab_type": "code",
    "id": "ZEiYYoqtKwOA",
    "pycharm": {
     "name": "#%%\n"
    },
    "colab": {},
    "ExecuteTime": {
     "end_time": "2024-11-17T18:55:33.619399Z",
     "start_time": "2024-11-17T18:55:33.359453Z"
    }
   },
   "source": [
    "tf.keras.utils.plot_model(generator_clear2fog, show_shapes=True, dpi=64, to_file='generator_clear2fog.png');"
   ],
   "outputs": [],
   "execution_count": 13
  },
  {
   "cell_type": "code",
   "metadata": {
    "colab_type": "code",
    "id": "YdQXzKvjKwON",
    "pycharm": {
     "name": "#%%\n"
    },
    "colab": {},
    "ExecuteTime": {
     "end_time": "2024-11-17T18:55:33.788607Z",
     "start_time": "2024-11-17T18:55:33.625183Z"
    }
   },
   "source": [
    "tf.keras.utils.plot_model(generator_fog2clear, show_shapes=True, dpi=64, to_file='generator_fog2clear.png');"
   ],
   "outputs": [],
   "execution_count": 14
  },
  {
   "cell_type": "markdown",
   "metadata": {
    "colab_type": "text",
    "id": "FsCfIhjeIDGM",
    "pycharm": {
     "name": "#%% md\n"
    }
   },
   "source": [
    "## Build Discriminator"
   ]
  },
  {
   "cell_type": "code",
   "metadata": {
    "colab_type": "code",
    "id": "eSZb1ZsOIbhj",
    "colab": {},
    "ExecuteTime": {
     "end_time": "2024-11-17T18:55:33.859320Z",
     "start_time": "2024-11-17T18:55:33.794318Z"
    }
   },
   "source": [
    "use_intensity_for_fog_discriminator = False #@param{type: \"boolean\"}\n",
    "discriminator_fog = models_builder.build_discriminator(use_intensity=use_intensity_for_fog_discriminator)\n",
    "discriminator_clear = models_builder.build_discriminator(use_intensity=False)"
   ],
   "outputs": [],
   "execution_count": 15
  },
  {
   "cell_type": "code",
   "metadata": {
    "colab_type": "code",
    "id": "lAp1Ob5ZMAKe",
    "colab": {},
    "ExecuteTime": {
     "end_time": "2024-11-17T18:55:34.048634Z",
     "start_time": "2024-11-17T18:55:33.867627Z"
    }
   },
   "source": [
    "tf.keras.utils.plot_model(discriminator_fog, show_shapes=True, dpi=64, to_file=\"discriminator_fog.png\");\n",
    "tf.keras.utils.plot_model(discriminator_clear, show_shapes=True, dpi=64, to_file=\"discriminator_clear.png\");"
   ],
   "outputs": [],
   "execution_count": 16
  },
  {
   "cell_type": "markdown",
   "metadata": {
    "colab_type": "text",
    "id": "aKUZnDiqQrAh",
    "pycharm": {
     "name": "#%% md\n"
    }
   },
   "source": [
    "## Checkpoints"
   ]
  },
  {
   "cell_type": "code",
   "metadata": {
    "colab_type": "code",
    "id": "WJnftd5sQsv6",
    "colab": {},
    "ExecuteTime": {
     "end_time": "2024-11-17T18:55:34.053290Z",
     "start_time": "2024-11-17T18:55:34.051541Z"
    }
   },
   "source": [
    "if colab:\n",
    "    weights_path = os.path.join(drive_project_path, 'weights/')\n",
    "else:\n",
    "    weights_path = \"./weights/\""
   ],
   "outputs": [],
   "execution_count": 17
  },
  {
   "cell_type": "code",
   "metadata": {
    "id": "E5qke6pCSeoK",
    "colab_type": "code",
    "colab": {},
    "ExecuteTime": {
     "end_time": "2024-11-17T18:55:34.550851Z",
     "start_time": "2024-11-17T18:55:34.058647Z"
    }
   },
   "source": [
    "from lib.train import Trainer\n",
    "trainer = Trainer(generator_clear2fog, generator_fog2clear,\n",
    "                 discriminator_fog, discriminator_clear)\n",
    "\n",
    "trainer.configure_checkpoint(weights_path = weights_path, load_optimizers=False)"
   ],
   "outputs": [
    {
     "ename": "ValueError",
     "evalue": "A total of 2 objects could not be loaded. Example error message for object <Conv2DTranspose name=transmission_layer, built=True>:\n\nThe shape of the target variable and the shape of the target value in `variable.assign(value)` must match. variable.shape=(4, 4, 1, 128), Received: value.shape=(4, 4, 3, 128). Target variable: <KerasVariable shape=(4, 4, 1, 128), dtype=float32, path=transmission_layer/kernel>\n\nList of objects that could not be loaded:\n[<Conv2DTranspose name=transmission_layer, built=True>, <DepthwiseConv2D name=depthwise_conv2d, built=True>]",
     "output_type": "error",
     "traceback": [
      "\u001B[0;31m---------------------------------------------------------------------------\u001B[0m",
      "\u001B[0;31mValueError\u001B[0m                                Traceback (most recent call last)",
      "Cell \u001B[0;32mIn[18], line 5\u001B[0m\n\u001B[1;32m      1\u001B[0m \u001B[38;5;28;01mfrom\u001B[39;00m \u001B[38;5;21;01mlib\u001B[39;00m\u001B[38;5;21;01m.\u001B[39;00m\u001B[38;5;21;01mtrain\u001B[39;00m \u001B[38;5;28;01mimport\u001B[39;00m Trainer\n\u001B[1;32m      2\u001B[0m trainer \u001B[38;5;241m=\u001B[39m Trainer(generator_clear2fog, generator_fog2clear,\n\u001B[1;32m      3\u001B[0m                  discriminator_fog, discriminator_clear)\n\u001B[0;32m----> 5\u001B[0m \u001B[43mtrainer\u001B[49m\u001B[38;5;241;43m.\u001B[39;49m\u001B[43mconfigure_checkpoint\u001B[49m\u001B[43m(\u001B[49m\u001B[43mweights_path\u001B[49m\u001B[43m \u001B[49m\u001B[38;5;241;43m=\u001B[39;49m\u001B[43m \u001B[49m\u001B[43mweights_path\u001B[49m\u001B[43m,\u001B[49m\u001B[43m \u001B[49m\u001B[43mload_optimizers\u001B[49m\u001B[38;5;241;43m=\u001B[39;49m\u001B[38;5;28;43;01mFalse\u001B[39;49;00m\u001B[43m)\u001B[49m\n",
      "File \u001B[0;32m~/IdeaProjects/Foggy-CycleGAN/lib/train.py:183\u001B[0m, in \u001B[0;36mTrainer.configure_checkpoint\u001B[0;34m(self, weights_path, load_optimizers)\u001B[0m\n\u001B[1;32m    181\u001B[0m \u001B[38;5;28;01mfor\u001B[39;00m model, path \u001B[38;5;129;01min\u001B[39;00m \u001B[38;5;28mzip\u001B[39m(models, paths):\n\u001B[1;32m    182\u001B[0m     \u001B[38;5;28;01mif\u001B[39;00m os\u001B[38;5;241m.\u001B[39mpath\u001B[38;5;241m.\u001B[39misfile(path):\n\u001B[0;32m--> 183\u001B[0m         \u001B[43mmodel\u001B[49m\u001B[38;5;241;43m.\u001B[39;49m\u001B[43mload_weights\u001B[49m\u001B[43m(\u001B[49m\u001B[43mpath\u001B[49m\u001B[43m)\u001B[49m\n\u001B[1;32m    184\u001B[0m         \u001B[38;5;28mprint\u001B[39m(\u001B[38;5;124m\"\u001B[39m\u001B[38;5;124mWeights loaded: \u001B[39m\u001B[38;5;132;01m{}\u001B[39;00m\u001B[38;5;124m\"\u001B[39m\u001B[38;5;241m.\u001B[39mformat(path))\n\u001B[1;32m    185\u001B[0m     \u001B[38;5;28;01melse\u001B[39;00m:\n",
      "File \u001B[0;32m~/Library/Caches/pypoetry/virtualenvs/foggy-cyclegan-8iyj8dkp-py3.12/lib/python3.12/site-packages/keras/src/utils/traceback_utils.py:122\u001B[0m, in \u001B[0;36mfilter_traceback.<locals>.error_handler\u001B[0;34m(*args, **kwargs)\u001B[0m\n\u001B[1;32m    119\u001B[0m     filtered_tb \u001B[38;5;241m=\u001B[39m _process_traceback_frames(e\u001B[38;5;241m.\u001B[39m__traceback__)\n\u001B[1;32m    120\u001B[0m     \u001B[38;5;66;03m# To get the full stack trace, call:\u001B[39;00m\n\u001B[1;32m    121\u001B[0m     \u001B[38;5;66;03m# `keras.config.disable_traceback_filtering()`\u001B[39;00m\n\u001B[0;32m--> 122\u001B[0m     \u001B[38;5;28;01mraise\u001B[39;00m e\u001B[38;5;241m.\u001B[39mwith_traceback(filtered_tb) \u001B[38;5;28;01mfrom\u001B[39;00m \u001B[38;5;28;01mNone\u001B[39;00m\n\u001B[1;32m    123\u001B[0m \u001B[38;5;28;01mfinally\u001B[39;00m:\n\u001B[1;32m    124\u001B[0m     \u001B[38;5;28;01mdel\u001B[39;00m filtered_tb\n",
      "File \u001B[0;32m~/Library/Caches/pypoetry/virtualenvs/foggy-cyclegan-8iyj8dkp-py3.12/lib/python3.12/site-packages/keras/src/saving/saving_lib.py:593\u001B[0m, in \u001B[0;36m_raise_loading_failure\u001B[0;34m(error_msgs, warn_only)\u001B[0m\n\u001B[1;32m    591\u001B[0m     warnings\u001B[38;5;241m.\u001B[39mwarn(msg)\n\u001B[1;32m    592\u001B[0m \u001B[38;5;28;01melse\u001B[39;00m:\n\u001B[0;32m--> 593\u001B[0m     \u001B[38;5;28;01mraise\u001B[39;00m \u001B[38;5;167;01mValueError\u001B[39;00m(msg)\n",
      "\u001B[0;31mValueError\u001B[0m: A total of 2 objects could not be loaded. Example error message for object <Conv2DTranspose name=transmission_layer, built=True>:\n\nThe shape of the target variable and the shape of the target value in `variable.assign(value)` must match. variable.shape=(4, 4, 1, 128), Received: value.shape=(4, 4, 3, 128). Target variable: <KerasVariable shape=(4, 4, 1, 128), dtype=float32, path=transmission_layer/kernel>\n\nList of objects that could not be loaded:\n[<Conv2DTranspose name=transmission_layer, built=True>, <DepthwiseConv2D name=depthwise_conv2d, built=True>]"
     ]
    }
   ],
   "execution_count": 18
  },
  {
   "cell_type": "code",
   "metadata": {
    "colab_type": "code",
    "id": "wDaGZ3WpZUyw",
    "pycharm": {
     "name": "#%%\n"
    },
    "colab": {}
   },
   "source": [
    "from lib.plot import plot_generators_predictions\n",
    "for clear, fog in tf.data.Dataset.zip((sample_clear.take(1), sample_fog.take(1))):\n",
    "    plot_generators_predictions(generator_clear2fog, clear, generator_fog2clear, fog)"
   ],
   "outputs": [],
   "execution_count": null
  },
  {
   "cell_type": "code",
   "metadata": {
    "colab_type": "code",
    "id": "O5MhJmxyZiy9",
    "pycharm": {
     "name": "#%%\n"
    },
    "colab": {}
   },
   "source": [
    "from lib.plot import plot_discriminators_predictions\n",
    "for clear, fog in tf.data.Dataset.zip((sample_clear.take(1), sample_fog.take(1))):\n",
    "    plot_discriminators_predictions(discriminator_clear, clear, discriminator_fog, fog, use_intensity_for_fog_discriminator)"
   ],
   "outputs": [],
   "execution_count": null
  },
  {
   "cell_type": "markdown",
   "metadata": {
    "colab_type": "text",
    "id": "Rw1fkAczTQYh"
   },
   "source": [
    "## Training"
   ]
  },
  {
   "cell_type": "code",
   "metadata": {
    "pycharm": {
     "name": "#%%\n"
    },
    "id": "UaubWnbRxGrh",
    "colab_type": "code",
    "colab": {}
   },
   "source": [
    "use_tensorboard = True #@param{type:\"boolean\"}"
   ],
   "outputs": [],
   "execution_count": null
  },
  {
   "cell_type": "code",
   "metadata": {
    "pycharm": {
     "name": "#%%\n"
    },
    "id": "TndgaMHnxGrs",
    "colab_type": "code",
    "colab": {}
   },
   "source": [
    "if use_tensorboard:\n",
    "    import tensorboard\n",
    "    tb = tensorboard.program.TensorBoard()\n",
    "    if colab:\n",
    "        trainer.tensorboard_base_logdir = os.path.join(drive_project_path,\"tensorboard_logs/\")\n",
    "    tb.configure(argv=[None, '--logdir', trainer.tensorboard_base_logdir])\n",
    "    url = tb.launch()\n",
    "    if colab:\n",
    "        tensorboard.notebook.display(port=6006, height=1000)\n",
    "    else:\n",
    "        print(url)"
   ],
   "outputs": [],
   "execution_count": null
  },
  {
   "cell_type": "code",
   "metadata": {
    "pycharm": {
     "name": "#%%\n"
    },
    "id": "5LeVzPCaxGrz",
    "colab_type": "code",
    "colab": {}
   },
   "source": [
    "if colab:\n",
    "    trainer.image_log_path = os.path.join(drive_project_path,\"image_logs/\")\n",
    "    trainer.config_path  = os.path.join(drive_project_path,\"trainer_config.json\")"
   ],
   "outputs": [],
   "execution_count": null
  },
  {
   "cell_type": "code",
   "metadata": {
    "pycharm": {
     "name": "#%%\n"
    },
    "id": "ie_Z7WkRxGr5",
    "colab_type": "code",
    "colab": {}
   },
   "source": [
    "trainer.load_config()"
   ],
   "outputs": [],
   "execution_count": null
  },
  {
   "cell_type": "code",
   "metadata": {
    "colab_type": "code",
    "id": "NS2GWywBbAWo",
    "colab": {}
   },
   "source": [
    "use_transmission_map_loss=True #@param{type: \"boolean\"}\n",
    "use_whitening_loss=True #@param{type: \"boolean\"}\n",
    "use_rgb_ratio_loss=True #@param{type: \"boolean\"}\n",
    "save_optimizers=False #@param{type: \"boolean\"}\n",
    "\n",
    "trainer.train(\n",
    "    train_clear, train_fog,\n",
    "    epochs=100,\n",
    "    clear_output_callback=lambda: clear_output(wait=True),\n",
    "    use_tensorboard=use_tensorboard,\n",
    "    sample_test=(sample_clear, sample_fog),\n",
    "    load_config_first=False,\n",
    "    use_transmission_map_loss=use_transmission_map_loss,\n",
    "    use_whitening_loss=use_whitening_loss,\n",
    "    use_rgb_ratio_loss=use_rgb_ratio_loss,\n",
    "    save_optimizers=save_optimizers,\n",
    "    use_intensity_for_fog_discriminator=use_intensity_for_fog_discriminator\n",
    ")"
   ],
   "outputs": [],
   "execution_count": null
  },
  {
   "cell_type": "markdown",
   "metadata": {
    "collapsed": false,
    "id": "bmA0Q6ZxxGsG",
    "colab_type": "text"
   },
   "source": [
    "## Testing"
   ]
  },
  {
   "cell_type": "code",
   "metadata": {
    "colab_type": "code",
    "id": "NLnOk_xqvFNm",
    "pycharm": {
     "name": "#%%\n"
    },
    "colab": {}
   },
   "source": [
    "# TODO: store predictions\n",
    "for clear, fog in zip(test_clear.take(5), test_fog.take(5)):\n",
    "    plot_generators_predictions(generator_clear2fog, clear, generator_fog2clear, fog)"
   ],
   "outputs": [],
   "execution_count": null
  },
  {
   "cell_type": "code",
   "source": [
    "for clear, fog in zip(sample_clear, sample_fog):\n",
    "    plot_generators_predictions(generator_clear2fog, clear, generator_fog2clear, fog)"
   ],
   "metadata": {
    "collapsed": false,
    "pycharm": {
     "name": "#%%\n"
    }
   },
   "outputs": [],
   "execution_count": null
  },
  {
   "cell_type": "code",
   "source": [
    "from lib.plot import plot_clear2fog_intensity\n",
    "from matplotlib import pyplot as plt\n",
    "\n",
    "intensity_path = './intensity/'\n",
    "from lib.tools import create_dir\n",
    "create_dir(intensity_path)\n",
    "\n",
    "image_clear = next(iter(test_clear))[0][0]\n",
    "step = 0.05\n",
    "for (ind, i) in enumerate(tf.range(0,1+step, step)):\n",
    "    fig = plot_clear2fog_intensity(generator_clear2fog, image_clear, i)\n",
    "    fig.savefig(os.path.join(intensity_path\n",
    "                             , \"{:02d}_intensity_{:0.2f}.jpg\".format(ind,i)), bbox_inches='tight', pad_inches=0)\n",
    "    if colab:\n",
    "        plt.show()\n",
    "    else:\n",
    "        plt.close(fig)\n"
   ],
   "metadata": {
    "collapsed": false,
    "pycharm": {
     "name": "#%%\n"
    }
   },
   "outputs": [],
   "execution_count": null
  },
  {
   "cell_type": "code",
   "source": [
    "if colab:\n",
    "    !cd ./intensity; zip /content/intensity.zip *"
   ],
   "metadata": {
    "collapsed": false,
    "pycharm": {
     "name": "#%%\n"
    }
   },
   "outputs": [],
   "execution_count": null
  },
  {
   "cell_type": "markdown",
   "source": [
    "## Testing Custom images\n"
   ],
   "metadata": {
    "collapsed": false,
    "pycharm": {
     "name": "#%% md\n"
    }
   }
  },
  {
   "cell_type": "code",
   "source": [
    "from lib.plot import plot_clear2fog_intensity\n",
    "from matplotlib import pyplot as plt\n",
    "\n",
    "intensity_path = './intensity/'\n",
    "from lib.tools import create_dir\n",
    "create_dir(intensity_path)\n",
    "file_path = 'E:/Downloads/test-image.png'\n",
    "\n",
    "image_clear = tf.io.decode_png(tf.io.read_file(file_path), channels=3)\n",
    "image_clear, _ = datasetInit.preprocess_image_test(image_clear, 0)\n",
    "step = 0.05\n",
    "for (ind, i) in enumerate(tf.range(0,1+step, step)):\n",
    "    fig = plot_clear2fog_intensity(generator_clear2fog, image_clear, i)\n",
    "    fig.savefig(os.path.join(intensity_path\n",
    "                             , \"{:02d}_intensity_{:0.2f}.jpg\".format(ind,i)), bbox_inches='tight', pad_inches=0)\n",
    "    if colab:\n",
    "        plt.show()\n",
    "    else:\n",
    "        plt.close(fig)"
   ],
   "metadata": {
    "collapsed": false,
    "pycharm": {
     "name": "#%%\n"
    }
   },
   "outputs": [],
   "execution_count": null
  },
  {
   "cell_type": "code",
   "source": [
    "if colab:\n",
    "    !cd ./intensity; zip /content/intensity.zip *"
   ],
   "metadata": {
    "collapsed": false,
    "pycharm": {
     "name": "#%%\n"
    }
   },
   "outputs": [],
   "execution_count": null
  }
 ]
}
